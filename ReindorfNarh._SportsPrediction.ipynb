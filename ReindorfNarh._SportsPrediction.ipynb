{
 "cells": [
  {
   "cell_type": "markdown",
   "id": "wIdaftGuVOAz",
   "metadata": {
    "id": "wIdaftGuVOAz"
   },
   "source": []
  },
  {
   "cell_type": "code",
   "execution_count": 1,
   "id": "78e0d297",
   "metadata": {
    "id": "78e0d297"
   },
   "outputs": [],
   "source": [
    "import os\n",
    "import time\n",
    "import numpy as np\n",
    "import pandas as pd\n",
    "from sklearn.impute import SimpleImputer\n",
    "from sklearn.preprocessing import StandardScaler\n",
    "from sklearn.feature_selection import SelectKBest, f_regression\n",
    "from sklearn.model_selection import train_test_split\n",
    "import joblib"
   ]
  },
  {
   "cell_type": "code",
   "execution_count": 2,
   "id": "AUuJaZfdLCJd",
   "metadata": {
    "colab": {
     "base_uri": "https://localhost:8080/"
    },
    "id": "AUuJaZfdLCJd",
    "outputId": "b86ac3aa-fd86-4243-ce54-a2772ba15acc"
   },
   "outputs": [
    {
     "name": "stderr",
     "output_type": "stream",
     "text": [
      "C:\\Users\\ok\\AppData\\Local\\Temp\\ipykernel_13524\\2037869050.py:1: DtypeWarning: Columns (108) have mixed types. Specify dtype option on import or set low_memory=False.\n",
      "  train_21 = pd.read_csv('male_players (legacy).csv')\n",
      "C:\\Users\\ok\\AppData\\Local\\Temp\\ipykernel_13524\\2037869050.py:3: DtypeWarning: Columns (25,108) have mixed types. Specify dtype option on import or set low_memory=False.\n",
      "  train_22 = pd.read_csv('players_22.csv')\n"
     ]
    }
   ],
   "source": [
    "\n",
    "train_21 = pd.read_csv('male_players (legacy).csv')\n",
    "\n",
    "train_22 = pd.read_csv('players_22.csv')"
   ]
  },
  {
   "cell_type": "code",
   "execution_count": null,
   "id": "f37ff381",
   "metadata": {
    "id": "f37ff381"
   },
   "outputs": [],
   "source": []
  },
  {
   "cell_type": "markdown",
   "id": "d3634729",
   "metadata": {
    "id": "d3634729"
   },
   "source": [
    "Checking and dropping variables with more than 30% missing values"
   ]
  },
  {
   "cell_type": "code",
   "execution_count": null,
   "id": "a5ad124f",
   "metadata": {
    "id": "a5ad124f"
   },
   "outputs": [],
   "source": []
  },
  {
   "cell_type": "code",
   "execution_count": 3,
   "id": "9edaad9b",
   "metadata": {
    "id": "9edaad9b"
   },
   "outputs": [],
   "source": [
    "\n",
    "threshold = 0.3 * train_21.shape[0]\n",
    "train_21 = train_21.dropna(thresh=threshold, axis=1)\n",
    "train_21.drop(columns=['wage_eur','value_eur', 'international_reputation', 'release_clause_eur'], inplace=True)\n"
   ]
  },
  {
   "cell_type": "code",
   "execution_count": null,
   "id": "042cc615",
   "metadata": {
    "id": "042cc615"
   },
   "outputs": [],
   "source": []
  },
  {
   "cell_type": "code",
   "execution_count": null,
   "id": "261deaa9",
   "metadata": {
    "colab": {
     "base_uri": "https://localhost:8080/"
    },
    "id": "261deaa9",
    "outputId": "ff2b9cf1-f9ed-4e2c-a330-201ff5c1eb5f"
   },
   "outputs": [],
   "source": []
  },
  {
   "cell_type": "code",
   "execution_count": null,
   "id": "4364c59c",
   "metadata": {
    "id": "4364c59c"
   },
   "outputs": [],
   "source": []
  },
  {
   "cell_type": "markdown",
   "id": "7c297147",
   "metadata": {
    "id": "56eb07a4"
   },
   "source": [
    "Selecting Numeric Features"
   ]
  },
  {
   "cell_type": "code",
   "execution_count": 4,
   "id": "edba830b",
   "metadata": {
    "id": "edba830b"
   },
   "outputs": [],
   "source": [
    "# selecting numerical features\n",
    "numerical_features = train_21.select_dtypes(include =[np.number])"
   ]
  },
  {
   "cell_type": "code",
   "execution_count": null,
   "id": "876c8aa2",
   "metadata": {
    "id": "876c8aa2"
   },
   "outputs": [],
   "source": []
  },
  {
   "cell_type": "markdown",
   "id": "fab5b514",
   "metadata": {
    "id": "fab5b514"
   },
   "source": [
    "Multivariable Imputation on numerical variables"
   ]
  },
  {
   "cell_type": "code",
   "execution_count": 5,
   "id": "cfa1d93e",
   "metadata": {
    "id": "cfa1d93e"
   },
   "outputs": [],
   "source": [
    "\n",
    "imp = SimpleImputer(strategy='mean')\n",
    "numerical_features = pd.DataFrame(imp.fit_transform(numerical_features), columns=numerical_features.columns, index=numerical_features.index)"
   ]
  },
  {
   "cell_type": "code",
   "execution_count": 6,
   "id": "ceec23ac",
   "metadata": {
    "colab": {
     "base_uri": "https://localhost:8080/",
     "height": 444
    },
    "id": "ceec23ac",
    "outputId": "eeb5d038-077f-4def-f19e-5bc976928dd0",
    "scrolled": false
   },
   "outputs": [],
   "source": [
    "#Specifying dependent and independent variables\n",
    "y = numerical_features['overall']\n",
    "X = numerical_features.drop(columns = ['overall'])"
   ]
  },
  {
   "cell_type": "markdown",
   "id": "a7ecee9d",
   "metadata": {
    "id": "a7ecee9d"
   },
   "source": [
    "Feature Importance"
   ]
  },
  {
   "cell_type": "code",
   "execution_count": 7,
   "id": "14ce1d81",
   "metadata": {
    "colab": {
     "base_uri": "https://localhost:8080/"
    },
    "id": "14ce1d81",
    "outputId": "0b1e1646-838f-4954-fc97-e71f21c43d85"
   },
   "outputs": [
    {
     "data": {
      "text/html": [
       "<div>\n",
       "<style scoped>\n",
       "    .dataframe tbody tr th:only-of-type {\n",
       "        vertical-align: middle;\n",
       "    }\n",
       "\n",
       "    .dataframe tbody tr th {\n",
       "        vertical-align: top;\n",
       "    }\n",
       "\n",
       "    .dataframe thead th {\n",
       "        text-align: right;\n",
       "    }\n",
       "</style>\n",
       "<table border=\"1\" class=\"dataframe\">\n",
       "  <thead>\n",
       "    <tr style=\"text-align: right;\">\n",
       "      <th></th>\n",
       "      <th>potential</th>\n",
       "      <th>age</th>\n",
       "      <th>shooting</th>\n",
       "      <th>passing</th>\n",
       "      <th>dribbling</th>\n",
       "      <th>physic</th>\n",
       "      <th>attacking_short_passing</th>\n",
       "      <th>skill_curve</th>\n",
       "      <th>skill_long_passing</th>\n",
       "      <th>skill_ball_control</th>\n",
       "      <th>movement_reactions</th>\n",
       "      <th>power_shot_power</th>\n",
       "      <th>mentality_vision</th>\n",
       "      <th>mentality_composure</th>\n",
       "    </tr>\n",
       "  </thead>\n",
       "  <tbody>\n",
       "    <tr>\n",
       "      <th>0</th>\n",
       "      <td>95</td>\n",
       "      <td>27</td>\n",
       "      <td>89.0</td>\n",
       "      <td>86.0</td>\n",
       "      <td>96.0</td>\n",
       "      <td>63.0</td>\n",
       "      <td>89</td>\n",
       "      <td>89</td>\n",
       "      <td>76</td>\n",
       "      <td>96</td>\n",
       "      <td>94</td>\n",
       "      <td>80</td>\n",
       "      <td>90</td>\n",
       "      <td>NaN</td>\n",
       "    </tr>\n",
       "    <tr>\n",
       "      <th>1</th>\n",
       "      <td>92</td>\n",
       "      <td>29</td>\n",
       "      <td>93.0</td>\n",
       "      <td>81.0</td>\n",
       "      <td>91.0</td>\n",
       "      <td>79.0</td>\n",
       "      <td>82</td>\n",
       "      <td>88</td>\n",
       "      <td>72</td>\n",
       "      <td>92</td>\n",
       "      <td>90</td>\n",
       "      <td>94</td>\n",
       "      <td>81</td>\n",
       "      <td>NaN</td>\n",
       "    </tr>\n",
       "    <tr>\n",
       "      <th>2</th>\n",
       "      <td>90</td>\n",
       "      <td>30</td>\n",
       "      <td>86.0</td>\n",
       "      <td>83.0</td>\n",
       "      <td>92.0</td>\n",
       "      <td>64.0</td>\n",
       "      <td>86</td>\n",
       "      <td>85</td>\n",
       "      <td>76</td>\n",
       "      <td>90</td>\n",
       "      <td>89</td>\n",
       "      <td>86</td>\n",
       "      <td>84</td>\n",
       "      <td>NaN</td>\n",
       "    </tr>\n",
       "    <tr>\n",
       "      <th>3</th>\n",
       "      <td>90</td>\n",
       "      <td>32</td>\n",
       "      <td>91.0</td>\n",
       "      <td>81.0</td>\n",
       "      <td>86.0</td>\n",
       "      <td>86.0</td>\n",
       "      <td>84</td>\n",
       "      <td>80</td>\n",
       "      <td>76</td>\n",
       "      <td>90</td>\n",
       "      <td>85</td>\n",
       "      <td>93</td>\n",
       "      <td>83</td>\n",
       "      <td>NaN</td>\n",
       "    </tr>\n",
       "    <tr>\n",
       "      <th>4</th>\n",
       "      <td>90</td>\n",
       "      <td>28</td>\n",
       "      <td>NaN</td>\n",
       "      <td>NaN</td>\n",
       "      <td>NaN</td>\n",
       "      <td>NaN</td>\n",
       "      <td>42</td>\n",
       "      <td>25</td>\n",
       "      <td>41</td>\n",
       "      <td>31</td>\n",
       "      <td>89</td>\n",
       "      <td>42</td>\n",
       "      <td>20</td>\n",
       "      <td>NaN</td>\n",
       "    </tr>\n",
       "    <tr>\n",
       "      <th>...</th>\n",
       "      <td>...</td>\n",
       "      <td>...</td>\n",
       "      <td>...</td>\n",
       "      <td>...</td>\n",
       "      <td>...</td>\n",
       "      <td>...</td>\n",
       "      <td>...</td>\n",
       "      <td>...</td>\n",
       "      <td>...</td>\n",
       "      <td>...</td>\n",
       "      <td>...</td>\n",
       "      <td>...</td>\n",
       "      <td>...</td>\n",
       "      <td>...</td>\n",
       "    </tr>\n",
       "    <tr>\n",
       "      <th>161578</th>\n",
       "      <td>61</td>\n",
       "      <td>18</td>\n",
       "      <td>48.0</td>\n",
       "      <td>40.0</td>\n",
       "      <td>47.0</td>\n",
       "      <td>44.0</td>\n",
       "      <td>38</td>\n",
       "      <td>39</td>\n",
       "      <td>33</td>\n",
       "      <td>45</td>\n",
       "      <td>39</td>\n",
       "      <td>64</td>\n",
       "      <td>42</td>\n",
       "      <td>40.0</td>\n",
       "    </tr>\n",
       "    <tr>\n",
       "      <th>161579</th>\n",
       "      <td>58</td>\n",
       "      <td>19</td>\n",
       "      <td>25.0</td>\n",
       "      <td>29.0</td>\n",
       "      <td>34.0</td>\n",
       "      <td>57.0</td>\n",
       "      <td>30</td>\n",
       "      <td>24</td>\n",
       "      <td>25</td>\n",
       "      <td>32</td>\n",
       "      <td>42</td>\n",
       "      <td>33</td>\n",
       "      <td>31</td>\n",
       "      <td>35.0</td>\n",
       "    </tr>\n",
       "    <tr>\n",
       "      <th>161580</th>\n",
       "      <td>58</td>\n",
       "      <td>19</td>\n",
       "      <td>36.0</td>\n",
       "      <td>43.0</td>\n",
       "      <td>46.0</td>\n",
       "      <td>53.0</td>\n",
       "      <td>51</td>\n",
       "      <td>30</td>\n",
       "      <td>43</td>\n",
       "      <td>35</td>\n",
       "      <td>50</td>\n",
       "      <td>51</td>\n",
       "      <td>40</td>\n",
       "      <td>35.0</td>\n",
       "    </tr>\n",
       "    <tr>\n",
       "      <th>161581</th>\n",
       "      <td>70</td>\n",
       "      <td>17</td>\n",
       "      <td>50.0</td>\n",
       "      <td>36.0</td>\n",
       "      <td>46.0</td>\n",
       "      <td>42.0</td>\n",
       "      <td>40</td>\n",
       "      <td>38</td>\n",
       "      <td>26</td>\n",
       "      <td>43</td>\n",
       "      <td>45</td>\n",
       "      <td>42</td>\n",
       "      <td>44</td>\n",
       "      <td>43.0</td>\n",
       "    </tr>\n",
       "    <tr>\n",
       "      <th>161582</th>\n",
       "      <td>63</td>\n",
       "      <td>17</td>\n",
       "      <td>22.0</td>\n",
       "      <td>26.0</td>\n",
       "      <td>32.0</td>\n",
       "      <td>57.0</td>\n",
       "      <td>32</td>\n",
       "      <td>21</td>\n",
       "      <td>29</td>\n",
       "      <td>31</td>\n",
       "      <td>40</td>\n",
       "      <td>33</td>\n",
       "      <td>20</td>\n",
       "      <td>30.0</td>\n",
       "    </tr>\n",
       "  </tbody>\n",
       "</table>\n",
       "<p>161583 rows × 14 columns</p>\n",
       "</div>"
      ],
      "text/plain": [
       "        potential  age  shooting  passing  dribbling  physic  \\\n",
       "0              95   27      89.0     86.0       96.0    63.0   \n",
       "1              92   29      93.0     81.0       91.0    79.0   \n",
       "2              90   30      86.0     83.0       92.0    64.0   \n",
       "3              90   32      91.0     81.0       86.0    86.0   \n",
       "4              90   28       NaN      NaN        NaN     NaN   \n",
       "...           ...  ...       ...      ...        ...     ...   \n",
       "161578         61   18      48.0     40.0       47.0    44.0   \n",
       "161579         58   19      25.0     29.0       34.0    57.0   \n",
       "161580         58   19      36.0     43.0       46.0    53.0   \n",
       "161581         70   17      50.0     36.0       46.0    42.0   \n",
       "161582         63   17      22.0     26.0       32.0    57.0   \n",
       "\n",
       "        attacking_short_passing  skill_curve  skill_long_passing  \\\n",
       "0                            89           89                  76   \n",
       "1                            82           88                  72   \n",
       "2                            86           85                  76   \n",
       "3                            84           80                  76   \n",
       "4                            42           25                  41   \n",
       "...                         ...          ...                 ...   \n",
       "161578                       38           39                  33   \n",
       "161579                       30           24                  25   \n",
       "161580                       51           30                  43   \n",
       "161581                       40           38                  26   \n",
       "161582                       32           21                  29   \n",
       "\n",
       "        skill_ball_control  movement_reactions  power_shot_power  \\\n",
       "0                       96                  94                80   \n",
       "1                       92                  90                94   \n",
       "2                       90                  89                86   \n",
       "3                       90                  85                93   \n",
       "4                       31                  89                42   \n",
       "...                    ...                 ...               ...   \n",
       "161578                  45                  39                64   \n",
       "161579                  32                  42                33   \n",
       "161580                  35                  50                51   \n",
       "161581                  43                  45                42   \n",
       "161582                  31                  40                33   \n",
       "\n",
       "        mentality_vision  mentality_composure  \n",
       "0                     90                  NaN  \n",
       "1                     81                  NaN  \n",
       "2                     84                  NaN  \n",
       "3                     83                  NaN  \n",
       "4                     20                  NaN  \n",
       "...                  ...                  ...  \n",
       "161578                42                 40.0  \n",
       "161579                31                 35.0  \n",
       "161580                40                 35.0  \n",
       "161581                44                 43.0  \n",
       "161582                20                 30.0  \n",
       "\n",
       "[161583 rows x 14 columns]"
      ]
     },
     "execution_count": 7,
     "metadata": {},
     "output_type": "execute_result"
    }
   ],
   "source": [
    "\n",
    "selector = SelectKBest(score_func=f_regression, k=14)  # Select top 12 features\n",
    "X_new = selector.fit_transform(X, y)\n",
    "important_features = X.columns[selector.get_support()]\n",
    "#important_feature_indices = selector.get_support()\n",
    "#important_features = X.columns[important_feature_indices]\n",
    "train_21[important_features]"
   ]
  },
  {
   "cell_type": "code",
   "execution_count": 8,
   "id": "eb2fde03",
   "metadata": {
    "id": "eb2fde03"
   },
   "outputs": [],
   "source": [
    "headers = numerical_features.columns"
   ]
  },
  {
   "cell_type": "code",
   "execution_count": 9,
   "id": "23c9d54a",
   "metadata": {
    "id": "23c9d54a"
   },
   "outputs": [],
   "source": [
    "X = pd.DataFrame(X_new, columns=important_features, index = X.index)"
   ]
  },
  {
   "cell_type": "code",
   "execution_count": null,
   "id": "6331ca88",
   "metadata": {
    "id": "6331ca88"
   },
   "outputs": [],
   "source": []
  },
  {
   "cell_type": "markdown",
   "id": "MMGgLyC5V1Bd",
   "metadata": {
    "id": "MMGgLyC5V1Bd"
   },
   "source": [
    "Splitting data to training and testing"
   ]
  },
  {
   "cell_type": "code",
   "execution_count": 10,
   "id": "21ca0b33",
   "metadata": {
    "id": "21ca0b33"
   },
   "outputs": [],
   "source": [
    "Xtrain,Xtest,Ytrain,Ytest=train_test_split(X_new,y,test_size=0.2,random_state=42,stratify=y)"
   ]
  },
  {
   "cell_type": "code",
   "execution_count": null,
   "id": "JZXiBoYdr979",
   "metadata": {
    "id": "JZXiBoYdr979"
   },
   "outputs": [],
   "source": []
  },
  {
   "cell_type": "code",
   "execution_count": 11,
   "id": "d234e72f",
   "metadata": {
    "id": "d234e72f"
   },
   "outputs": [],
   "source": [
    "from sklearn.svm import LinearSVR\n",
    "from sklearn.tree import DecisionTreeRegressor\n",
    "from sklearn.linear_model import LinearRegression, SGDRegressor\n",
    "from sklearn.metrics import mean_absolute_error, mean_squared_error, mean_squared_log_error, r2_score\n",
    "import pickle as pkl"
   ]
  },
  {
   "cell_type": "code",
   "execution_count": 12,
   "id": "139ecef1",
   "metadata": {
    "id": "139ecef1"
   },
   "outputs": [],
   "source": [
    "dtree = DecisionTreeRegressor(max_depth=15)\n",
    "lregressor = LinearRegression()\n",
    "sdg = SGDRegressor()\n",
    "svr = LinearSVR(C=1.0)"
   ]
  },
  {
   "cell_type": "code",
   "execution_count": null,
   "id": "643c78fc",
   "metadata": {
    "id": "643c78fc"
   },
   "outputs": [],
   "source": []
  },
  {
   "cell_type": "markdown",
   "id": "8dcc4a4e",
   "metadata": {
    "id": "8dcc4a4e"
   },
   "source": [
    "### Training Models"
   ]
  },
  {
   "cell_type": "code",
   "execution_count": null,
   "id": "0f6777a8",
   "metadata": {
    "id": "0f6777a8"
   },
   "outputs": [],
   "source": []
  },
  {
   "cell_type": "code",
   "execution_count": null,
   "id": "wpzB7g6rgYCC",
   "metadata": {
    "colab": {
     "base_uri": "https://localhost:8080/"
    },
    "id": "wpzB7g6rgYCC",
    "outputId": "6133ea9b-7a31-44ab-c530-68c959826f8f"
   },
   "outputs": [
    {
     "name": "stdout",
     "output_type": "stream",
     "text": [
      "\n",
      " DecisionTreeRegressor: \n",
      " Mean Absolute error: 1.012959729530046 \n",
      " Mean Squared Error: 2.4791336241674 \n",
      " R2_score: 0.9489494093962051\n",
      "\n",
      " LinearRegression: \n",
      " Mean Absolute error: 1.6047062618474033 \n",
      " Mean Squared Error: 4.2852389757744165 \n",
      " R2_score: 0.9058330652657282\n",
      "\n",
      " SGDRegressor: \n",
      " Mean Absolute error: 1076419048327.5916 \n",
      " Mean Squared Error: 1.3165161470170088e+24 \n",
      " R2_score: -5.348995035195485\n"
     ]
    }
   ],
   "source": [
    "for model in (dtree, lregressor, sdg, svr):\n",
    "    model.fit(Xtrain, Ytrain)\n",
    "\n",
    "    y_pred = model.predict(Xtest)\n",
    "\n",
    "    print(f'''\\n {model.__class__.__name__}: \\n Mean Absolute error: {mean_absolute_error(y_pred, Ytest)} \\n Mean Squared Error: {mean_squared_error(y_pred, Ytest)} \\n R2_score: {r2_score(y_pred, Ytest)}''')\n"
   ]
  },
  {
   "cell_type": "code",
   "execution_count": null,
   "id": "cStAKr6dpX7R",
   "metadata": {
    "id": "cStAKr6dpX7R"
   },
   "outputs": [],
   "source": []
  },
  {
   "cell_type": "code",
   "execution_count": null,
   "id": "54e0fbee",
   "metadata": {},
   "outputs": [],
   "source": []
  },
  {
   "cell_type": "code",
   "execution_count": null,
   "id": "d4d5dd9c",
   "metadata": {},
   "outputs": [],
   "source": [
    "#Preparing testing dataset\n",
    "train_22_cleaned = train_22.select_dtypes(include=[np.number]).dropna(axis=1)\n",
    "common_features = list(set(X.columns) & set(train_22_cleaned.columns))\n",
    "    \n",
    "new_X = X[common_features]\n",
    "x_text22 = train_22_cleaned[common_features]\n",
    "    "
   ]
  },
  {
   "cell_type": "code",
   "execution_count": null,
   "id": "4e3f9f82",
   "metadata": {},
   "outputs": [],
   "source": [
    "#Training models again\n",
    "for model in (dtree, lregressor, sdg, svr):\n",
    "    #Spliting into trainig and testing\n",
    "    X_train,X_test,Y_train,Y_test=train_test_split(new_X,y,test_size=0.2,random_state=42,stratify=y)\n",
    "    model.fit(X_train, Y_train)\n",
    "    \n",
    "    y_pred = model.predict(Xtest)\n",
    "\n",
    "    print(f'''\\n {model.__class__.__name__}: \\n Mean Absolute error: {mean_absolute_error(y_pred, Y_test)} \\n Mean Squared Error: {mean_squared_error(y_pred, Y_test)} \\n R2_score: {r2_score(y_pred, Y_test)}''')\n"
   ]
  },
  {
   "cell_type": "code",
   "execution_count": null,
   "id": "0babe637",
   "metadata": {},
   "outputs": [],
   "source": [
    "#Evaluating models on testing dataset\n",
    "for model in (dtree, lregressor, sdg, svr):\n",
    "    X_train,X_test,Y_train,Y_test=train_test_split(new_X,y,test_size=0.2,random_state=42,stratify=y)\n",
    "    model.fit(X_train, Y_train)\n",
    "    \n",
    "    y_pred = model.predict(X_test22)\n",
    "    \n",
    "    print(f'''\\n {model.__class__.__name__}: \\n Mean Absolute error: {mean_absolute_error(y_pred, Y_test)} \\n Mean Squared Error: {mean_squared_error(y_pred, Y_test)} \\n R2_score: {r2_score(y_pred, Y_test)}''')\n",
    "\n",
    "    "
   ]
  },
  {
   "cell_type": "code",
   "execution_count": null,
   "id": "6e7aa319",
   "metadata": {},
   "outputs": [],
   "source": []
  },
  {
   "cell_type": "markdown",
   "id": "fc8ed4e3",
   "metadata": {
    "id": "fc8ed4e3"
   },
   "source": [
    "## Ensemble Learning"
   ]
  },
  {
   "cell_type": "markdown",
   "id": "da452099",
   "metadata": {
    "id": "da452099"
   },
   "source": [
    "### Grid Search with Cross Validation"
   ]
  },
  {
   "cell_type": "code",
   "execution_count": null,
   "id": "baf9796f",
   "metadata": {
    "id": "baf9796f"
   },
   "outputs": [],
   "source": [
    "from sklearn.model_selection import GridSearchCV, KFold\n",
    "from sklearn.ensemble import RandomForestRegressor"
   ]
  },
  {
   "cell_type": "code",
   "execution_count": null,
   "id": "7d44bed3",
   "metadata": {
    "colab": {
     "base_uri": "https://localhost:8080/",
     "height": 356
    },
    "id": "7d44bed3",
    "outputId": "d58cfd6a-1efd-4998-a745-49fa8da8360b"
   },
   "outputs": [],
   "source": [
    "cv=KFold(n_splits=3)\n",
    "rf = RandomForestRegressor()\n",
    "rf_param_grid = {\n",
    "    'n_estimators': [100, 200],\n",
    "    'max_depth': [None, 10, 20],\n",
    "    'min_samples_split': [2, 5],\n",
    "    'min_samples_leaf': [1, 2]\n",
    "}\n",
    "\n",
    "rf_grid_search = GridSearchCV(estimator=rf, param_grid=rf_param_grid, cv=cv, n_jobs=-1, verbose=2)\n",
    "\n",
    "start_time = time.time()\n",
    "rf_grid_search.fit(Xtrain, Ytrain)\n",
    "rf_duration = time.time() - start_time\n",
    "\n",
    "# Save the model\n",
    "pkl.dump(rf_grid_search, open(\"best_model_predictor\" + '.pkl', 'wb'))\n",
    "\n",
    "y_pred = rf_grid_search.predict(X_test)\n",
    "\n",
    "\n",
    "print(f\"Random Forest Grid Search Duration: {rf_duration} seconds\")\n",
    "\n",
    "print(f'''\\n {model.__class__.__name__}: \\n Mean Absolute error: {mean_absolute_error(y_pred, Ytest)} \\n Mean Squared Error: {mean_squared_error(y_pred, Ytest)} \\n R2_score: {r2_score(y_pred, Ytest)}''')\n"
   ]
  },
  {
   "cell_type": "code",
   "execution_count": null,
   "id": "2e1ec9b4",
   "metadata": {
    "id": "2e1ec9b4"
   },
   "outputs": [],
   "source": [
    "# Getting the best parameters and best score\n",
    "best_params = rf_grid_search.best_params_\n",
    "best_score = rf_grid_search.best_score_\n",
    "best_params"
   ]
  },
  {
   "cell_type": "code",
   "execution_count": null,
   "id": "lH4IgZYL6NV4",
   "metadata": {
    "id": "lH4IgZYL6NV4"
   },
   "outputs": [],
   "source": [
    "best_score"
   ]
  }
 ],
 "metadata": {
  "accelerator": "GPU",
  "colab": {
   "gpuType": "T4",
   "provenance": []
  },
  "kernelspec": {
   "display_name": "Python 3 (ipykernel)",
   "language": "python",
   "name": "python3"
  },
  "language_info": {
   "codemirror_mode": {
    "name": "ipython",
    "version": 3
   },
   "file_extension": ".py",
   "mimetype": "text/x-python",
   "name": "python",
   "nbconvert_exporter": "python",
   "pygments_lexer": "ipython3",
   "version": "3.11.7"
  }
 },
 "nbformat": 4,
 "nbformat_minor": 5
}
