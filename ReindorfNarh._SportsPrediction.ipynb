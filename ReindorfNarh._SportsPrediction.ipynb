{
 "cells": [
  {
   "cell_type": "markdown",
   "id": "wIdaftGuVOAz",
   "metadata": {
    "id": "wIdaftGuVOAz"
   },
   "source": [
    "## Importations"
   ]
  },
  {
   "cell_type": "code",
   "execution_count": 1,
   "id": "78e0d297",
   "metadata": {
    "id": "78e0d297"
   },
   "outputs": [
    {
     "name": "stderr",
     "output_type": "stream",
     "text": [
      "\n",
      "A module that was compiled using NumPy 1.x cannot be run in\n",
      "NumPy 2.0.0 as it may crash. To support both 1.x and 2.x\n",
      "versions of NumPy, modules must be compiled with NumPy 2.0.\n",
      "Some module may need to rebuild instead e.g. with 'pybind11>=2.12'.\n",
      "\n",
      "If you are a user of the module, the easiest solution will be to\n",
      "downgrade to 'numpy<2' or try to upgrade the affected module.\n",
      "We expect that some modules will need time to support NumPy 2.\n",
      "\n",
      "Traceback (most recent call last):  File \"<frozen runpy>\", line 198, in _run_module_as_main\n",
      "  File \"<frozen runpy>\", line 88, in _run_code\n",
      "  File \"C:\\Users\\ok\\anaconda3\\Lib\\site-packages\\ipykernel_launcher.py\", line 17, in <module>\n",
      "    app.launch_new_instance()\n",
      "  File \"C:\\Users\\ok\\anaconda3\\Lib\\site-packages\\traitlets\\config\\application.py\", line 992, in launch_instance\n",
      "    app.start()\n",
      "  File \"C:\\Users\\ok\\anaconda3\\Lib\\site-packages\\ipykernel\\kernelapp.py\", line 701, in start\n",
      "    self.io_loop.start()\n",
      "  File \"C:\\Users\\ok\\anaconda3\\Lib\\site-packages\\tornado\\platform\\asyncio.py\", line 195, in start\n",
      "    self.asyncio_loop.run_forever()\n",
      "  File \"C:\\Users\\ok\\anaconda3\\Lib\\asyncio\\windows_events.py\", line 321, in run_forever\n",
      "    super().run_forever()\n",
      "  File \"C:\\Users\\ok\\anaconda3\\Lib\\asyncio\\base_events.py\", line 607, in run_forever\n",
      "    self._run_once()\n",
      "  File \"C:\\Users\\ok\\anaconda3\\Lib\\asyncio\\base_events.py\", line 1922, in _run_once\n",
      "    handle._run()\n",
      "  File \"C:\\Users\\ok\\anaconda3\\Lib\\asyncio\\events.py\", line 80, in _run\n",
      "    self._context.run(self._callback, *self._args)\n",
      "  File \"C:\\Users\\ok\\anaconda3\\Lib\\site-packages\\ipykernel\\kernelbase.py\", line 534, in dispatch_queue\n",
      "    await self.process_one()\n",
      "  File \"C:\\Users\\ok\\anaconda3\\Lib\\site-packages\\ipykernel\\kernelbase.py\", line 523, in process_one\n",
      "    await dispatch(*args)\n",
      "  File \"C:\\Users\\ok\\anaconda3\\Lib\\site-packages\\ipykernel\\kernelbase.py\", line 429, in dispatch_shell\n",
      "    await result\n",
      "  File \"C:\\Users\\ok\\anaconda3\\Lib\\site-packages\\ipykernel\\kernelbase.py\", line 767, in execute_request\n",
      "    reply_content = await reply_content\n",
      "  File \"C:\\Users\\ok\\anaconda3\\Lib\\site-packages\\ipykernel\\ipkernel.py\", line 429, in do_execute\n",
      "    res = shell.run_cell(\n",
      "  File \"C:\\Users\\ok\\anaconda3\\Lib\\site-packages\\ipykernel\\zmqshell.py\", line 549, in run_cell\n",
      "    return super().run_cell(*args, **kwargs)\n",
      "  File \"C:\\Users\\ok\\anaconda3\\Lib\\site-packages\\IPython\\core\\interactiveshell.py\", line 3051, in run_cell\n",
      "    result = self._run_cell(\n",
      "  File \"C:\\Users\\ok\\anaconda3\\Lib\\site-packages\\IPython\\core\\interactiveshell.py\", line 3106, in _run_cell\n",
      "    result = runner(coro)\n",
      "  File \"C:\\Users\\ok\\anaconda3\\Lib\\site-packages\\IPython\\core\\async_helpers.py\", line 129, in _pseudo_sync_runner\n",
      "    coro.send(None)\n",
      "  File \"C:\\Users\\ok\\anaconda3\\Lib\\site-packages\\IPython\\core\\interactiveshell.py\", line 3311, in run_cell_async\n",
      "    has_raised = await self.run_ast_nodes(code_ast.body, cell_name,\n",
      "  File \"C:\\Users\\ok\\anaconda3\\Lib\\site-packages\\IPython\\core\\interactiveshell.py\", line 3493, in run_ast_nodes\n",
      "    if await self.run_code(code, result, async_=asy):\n",
      "  File \"C:\\Users\\ok\\anaconda3\\Lib\\site-packages\\IPython\\core\\interactiveshell.py\", line 3553, in run_code\n",
      "    exec(code_obj, self.user_global_ns, self.user_ns)\n",
      "  File \"C:\\Users\\ok\\AppData\\Local\\Temp\\ipykernel_12556\\3667885881.py\", line 5, in <module>\n",
      "    import pandas as pd\n",
      "  File \"C:\\Users\\ok\\anaconda3\\Lib\\site-packages\\pandas\\__init__.py\", line 39, in <module>\n",
      "    from pandas.compat import (\n",
      "  File \"C:\\Users\\ok\\anaconda3\\Lib\\site-packages\\pandas\\compat\\__init__.py\", line 27, in <module>\n",
      "    from pandas.compat.pyarrow import (\n",
      "  File \"C:\\Users\\ok\\anaconda3\\Lib\\site-packages\\pandas\\compat\\pyarrow.py\", line 8, in <module>\n",
      "    import pyarrow as pa\n",
      "  File \"C:\\Users\\ok\\anaconda3\\Lib\\site-packages\\pyarrow\\__init__.py\", line 65, in <module>\n",
      "    import pyarrow.lib as _lib\n"
     ]
    },
    {
     "ename": "AttributeError",
     "evalue": "_ARRAY_API not found",
     "output_type": "error",
     "traceback": [
      "\u001b[1;31m---------------------------------------------------------------------------\u001b[0m",
      "\u001b[1;31mAttributeError\u001b[0m                            Traceback (most recent call last)",
      "\u001b[1;31mAttributeError\u001b[0m: _ARRAY_API not found"
     ]
    },
    {
     "name": "stderr",
     "output_type": "stream",
     "text": [
      "\n",
      "A module that was compiled using NumPy 1.x cannot be run in\n",
      "NumPy 2.0.0 as it may crash. To support both 1.x and 2.x\n",
      "versions of NumPy, modules must be compiled with NumPy 2.0.\n",
      "Some module may need to rebuild instead e.g. with 'pybind11>=2.12'.\n",
      "\n",
      "If you are a user of the module, the easiest solution will be to\n",
      "downgrade to 'numpy<2' or try to upgrade the affected module.\n",
      "We expect that some modules will need time to support NumPy 2.\n",
      "\n",
      "Traceback (most recent call last):  File \"<frozen runpy>\", line 198, in _run_module_as_main\n",
      "  File \"<frozen runpy>\", line 88, in _run_code\n",
      "  File \"C:\\Users\\ok\\anaconda3\\Lib\\site-packages\\ipykernel_launcher.py\", line 17, in <module>\n",
      "    app.launch_new_instance()\n",
      "  File \"C:\\Users\\ok\\anaconda3\\Lib\\site-packages\\traitlets\\config\\application.py\", line 992, in launch_instance\n",
      "    app.start()\n",
      "  File \"C:\\Users\\ok\\anaconda3\\Lib\\site-packages\\ipykernel\\kernelapp.py\", line 701, in start\n",
      "    self.io_loop.start()\n",
      "  File \"C:\\Users\\ok\\anaconda3\\Lib\\site-packages\\tornado\\platform\\asyncio.py\", line 195, in start\n",
      "    self.asyncio_loop.run_forever()\n",
      "  File \"C:\\Users\\ok\\anaconda3\\Lib\\asyncio\\windows_events.py\", line 321, in run_forever\n",
      "    super().run_forever()\n",
      "  File \"C:\\Users\\ok\\anaconda3\\Lib\\asyncio\\base_events.py\", line 607, in run_forever\n",
      "    self._run_once()\n",
      "  File \"C:\\Users\\ok\\anaconda3\\Lib\\asyncio\\base_events.py\", line 1922, in _run_once\n",
      "    handle._run()\n",
      "  File \"C:\\Users\\ok\\anaconda3\\Lib\\asyncio\\events.py\", line 80, in _run\n",
      "    self._context.run(self._callback, *self._args)\n",
      "  File \"C:\\Users\\ok\\anaconda3\\Lib\\site-packages\\ipykernel\\kernelbase.py\", line 534, in dispatch_queue\n",
      "    await self.process_one()\n",
      "  File \"C:\\Users\\ok\\anaconda3\\Lib\\site-packages\\ipykernel\\kernelbase.py\", line 523, in process_one\n",
      "    await dispatch(*args)\n",
      "  File \"C:\\Users\\ok\\anaconda3\\Lib\\site-packages\\ipykernel\\kernelbase.py\", line 429, in dispatch_shell\n",
      "    await result\n",
      "  File \"C:\\Users\\ok\\anaconda3\\Lib\\site-packages\\ipykernel\\kernelbase.py\", line 767, in execute_request\n",
      "    reply_content = await reply_content\n",
      "  File \"C:\\Users\\ok\\anaconda3\\Lib\\site-packages\\ipykernel\\ipkernel.py\", line 429, in do_execute\n",
      "    res = shell.run_cell(\n",
      "  File \"C:\\Users\\ok\\anaconda3\\Lib\\site-packages\\ipykernel\\zmqshell.py\", line 549, in run_cell\n",
      "    return super().run_cell(*args, **kwargs)\n",
      "  File \"C:\\Users\\ok\\anaconda3\\Lib\\site-packages\\IPython\\core\\interactiveshell.py\", line 3051, in run_cell\n",
      "    result = self._run_cell(\n",
      "  File \"C:\\Users\\ok\\anaconda3\\Lib\\site-packages\\IPython\\core\\interactiveshell.py\", line 3106, in _run_cell\n",
      "    result = runner(coro)\n",
      "  File \"C:\\Users\\ok\\anaconda3\\Lib\\site-packages\\IPython\\core\\async_helpers.py\", line 129, in _pseudo_sync_runner\n",
      "    coro.send(None)\n",
      "  File \"C:\\Users\\ok\\anaconda3\\Lib\\site-packages\\IPython\\core\\interactiveshell.py\", line 3311, in run_cell_async\n",
      "    has_raised = await self.run_ast_nodes(code_ast.body, cell_name,\n",
      "  File \"C:\\Users\\ok\\anaconda3\\Lib\\site-packages\\IPython\\core\\interactiveshell.py\", line 3493, in run_ast_nodes\n",
      "    if await self.run_code(code, result, async_=asy):\n",
      "  File \"C:\\Users\\ok\\anaconda3\\Lib\\site-packages\\IPython\\core\\interactiveshell.py\", line 3553, in run_code\n",
      "    exec(code_obj, self.user_global_ns, self.user_ns)\n",
      "  File \"C:\\Users\\ok\\AppData\\Local\\Temp\\ipykernel_12556\\3667885881.py\", line 5, in <module>\n",
      "    import pandas as pd\n",
      "  File \"C:\\Users\\ok\\anaconda3\\Lib\\site-packages\\pandas\\__init__.py\", line 62, in <module>\n",
      "    from pandas.core.api import (\n",
      "  File \"C:\\Users\\ok\\anaconda3\\Lib\\site-packages\\pandas\\core\\api.py\", line 9, in <module>\n",
      "    from pandas.core.dtypes.dtypes import (\n",
      "  File \"C:\\Users\\ok\\anaconda3\\Lib\\site-packages\\pandas\\core\\dtypes\\dtypes.py\", line 24, in <module>\n",
      "    from pandas._libs import (\n",
      "  File \"C:\\Users\\ok\\anaconda3\\Lib\\site-packages\\pyarrow\\__init__.py\", line 65, in <module>\n",
      "    import pyarrow.lib as _lib\n"
     ]
    },
    {
     "ename": "AttributeError",
     "evalue": "_ARRAY_API not found",
     "output_type": "error",
     "traceback": [
      "\u001b[1;31m---------------------------------------------------------------------------\u001b[0m",
      "\u001b[1;31mAttributeError\u001b[0m                            Traceback (most recent call last)",
      "\u001b[1;31mAttributeError\u001b[0m: _ARRAY_API not found"
     ]
    },
    {
     "name": "stderr",
     "output_type": "stream",
     "text": [
      "\n",
      "A module that was compiled using NumPy 1.x cannot be run in\n",
      "NumPy 2.0.0 as it may crash. To support both 1.x and 2.x\n",
      "versions of NumPy, modules must be compiled with NumPy 2.0.\n",
      "Some module may need to rebuild instead e.g. with 'pybind11>=2.12'.\n",
      "\n",
      "If you are a user of the module, the easiest solution will be to\n",
      "downgrade to 'numpy<2' or try to upgrade the affected module.\n",
      "We expect that some modules will need time to support NumPy 2.\n",
      "\n",
      "Traceback (most recent call last):  File \"<frozen runpy>\", line 198, in _run_module_as_main\n",
      "  File \"<frozen runpy>\", line 88, in _run_code\n",
      "  File \"C:\\Users\\ok\\anaconda3\\Lib\\site-packages\\ipykernel_launcher.py\", line 17, in <module>\n",
      "    app.launch_new_instance()\n",
      "  File \"C:\\Users\\ok\\anaconda3\\Lib\\site-packages\\traitlets\\config\\application.py\", line 992, in launch_instance\n",
      "    app.start()\n",
      "  File \"C:\\Users\\ok\\anaconda3\\Lib\\site-packages\\ipykernel\\kernelapp.py\", line 701, in start\n",
      "    self.io_loop.start()\n",
      "  File \"C:\\Users\\ok\\anaconda3\\Lib\\site-packages\\tornado\\platform\\asyncio.py\", line 195, in start\n",
      "    self.asyncio_loop.run_forever()\n",
      "  File \"C:\\Users\\ok\\anaconda3\\Lib\\asyncio\\windows_events.py\", line 321, in run_forever\n",
      "    super().run_forever()\n",
      "  File \"C:\\Users\\ok\\anaconda3\\Lib\\asyncio\\base_events.py\", line 607, in run_forever\n",
      "    self._run_once()\n",
      "  File \"C:\\Users\\ok\\anaconda3\\Lib\\asyncio\\base_events.py\", line 1922, in _run_once\n",
      "    handle._run()\n",
      "  File \"C:\\Users\\ok\\anaconda3\\Lib\\asyncio\\events.py\", line 80, in _run\n",
      "    self._context.run(self._callback, *self._args)\n",
      "  File \"C:\\Users\\ok\\anaconda3\\Lib\\site-packages\\ipykernel\\kernelbase.py\", line 534, in dispatch_queue\n",
      "    await self.process_one()\n",
      "  File \"C:\\Users\\ok\\anaconda3\\Lib\\site-packages\\ipykernel\\kernelbase.py\", line 523, in process_one\n",
      "    await dispatch(*args)\n",
      "  File \"C:\\Users\\ok\\anaconda3\\Lib\\site-packages\\ipykernel\\kernelbase.py\", line 429, in dispatch_shell\n",
      "    await result\n",
      "  File \"C:\\Users\\ok\\anaconda3\\Lib\\site-packages\\ipykernel\\kernelbase.py\", line 767, in execute_request\n",
      "    reply_content = await reply_content\n",
      "  File \"C:\\Users\\ok\\anaconda3\\Lib\\site-packages\\ipykernel\\ipkernel.py\", line 429, in do_execute\n",
      "    res = shell.run_cell(\n",
      "  File \"C:\\Users\\ok\\anaconda3\\Lib\\site-packages\\ipykernel\\zmqshell.py\", line 549, in run_cell\n",
      "    return super().run_cell(*args, **kwargs)\n",
      "  File \"C:\\Users\\ok\\anaconda3\\Lib\\site-packages\\IPython\\core\\interactiveshell.py\", line 3051, in run_cell\n",
      "    result = self._run_cell(\n",
      "  File \"C:\\Users\\ok\\anaconda3\\Lib\\site-packages\\IPython\\core\\interactiveshell.py\", line 3106, in _run_cell\n",
      "    result = runner(coro)\n",
      "  File \"C:\\Users\\ok\\anaconda3\\Lib\\site-packages\\IPython\\core\\async_helpers.py\", line 129, in _pseudo_sync_runner\n",
      "    coro.send(None)\n",
      "  File \"C:\\Users\\ok\\anaconda3\\Lib\\site-packages\\IPython\\core\\interactiveshell.py\", line 3311, in run_cell_async\n",
      "    has_raised = await self.run_ast_nodes(code_ast.body, cell_name,\n",
      "  File \"C:\\Users\\ok\\anaconda3\\Lib\\site-packages\\IPython\\core\\interactiveshell.py\", line 3493, in run_ast_nodes\n",
      "    if await self.run_code(code, result, async_=asy):\n",
      "  File \"C:\\Users\\ok\\anaconda3\\Lib\\site-packages\\IPython\\core\\interactiveshell.py\", line 3553, in run_code\n",
      "    exec(code_obj, self.user_global_ns, self.user_ns)\n",
      "  File \"C:\\Users\\ok\\AppData\\Local\\Temp\\ipykernel_12556\\3667885881.py\", line 5, in <module>\n",
      "    import pandas as pd\n",
      "  File \"C:\\Users\\ok\\anaconda3\\Lib\\site-packages\\pandas\\__init__.py\", line 62, in <module>\n",
      "    from pandas.core.api import (\n",
      "  File \"C:\\Users\\ok\\anaconda3\\Lib\\site-packages\\pandas\\core\\api.py\", line 28, in <module>\n",
      "    from pandas.core.arrays import Categorical\n",
      "  File \"C:\\Users\\ok\\anaconda3\\Lib\\site-packages\\pandas\\core\\arrays\\__init__.py\", line 1, in <module>\n",
      "    from pandas.core.arrays.arrow import ArrowExtensionArray\n",
      "  File \"C:\\Users\\ok\\anaconda3\\Lib\\site-packages\\pandas\\core\\arrays\\arrow\\__init__.py\", line 5, in <module>\n",
      "    from pandas.core.arrays.arrow.array import ArrowExtensionArray\n",
      "  File \"C:\\Users\\ok\\anaconda3\\Lib\\site-packages\\pandas\\core\\arrays\\arrow\\array.py\", line 50, in <module>\n",
      "    from pandas.core import (\n",
      "  File \"C:\\Users\\ok\\anaconda3\\Lib\\site-packages\\pandas\\core\\ops\\__init__.py\", line 8, in <module>\n",
      "    from pandas.core.ops.array_ops import (\n",
      "  File \"C:\\Users\\ok\\anaconda3\\Lib\\site-packages\\pandas\\core\\ops\\array_ops.py\", line 56, in <module>\n",
      "    from pandas.core.computation import expressions\n",
      "  File \"C:\\Users\\ok\\anaconda3\\Lib\\site-packages\\pandas\\core\\computation\\expressions.py\", line 21, in <module>\n",
      "    from pandas.core.computation.check import NUMEXPR_INSTALLED\n",
      "  File \"C:\\Users\\ok\\anaconda3\\Lib\\site-packages\\pandas\\core\\computation\\check.py\", line 5, in <module>\n",
      "    ne = import_optional_dependency(\"numexpr\", errors=\"warn\")\n",
      "  File \"C:\\Users\\ok\\anaconda3\\Lib\\site-packages\\pandas\\compat\\_optional.py\", line 135, in import_optional_dependency\n",
      "    module = importlib.import_module(name)\n",
      "  File \"C:\\Users\\ok\\anaconda3\\Lib\\importlib\\__init__.py\", line 126, in import_module\n",
      "    return _bootstrap._gcd_import(name[level:], package, level)\n",
      "  File \"C:\\Users\\ok\\anaconda3\\Lib\\site-packages\\numexpr\\__init__.py\", line 24, in <module>\n",
      "    from numexpr.interpreter import MAX_THREADS, use_vml, __BLOCK_SIZE1__\n"
     ]
    },
    {
     "ename": "AttributeError",
     "evalue": "_ARRAY_API not found",
     "output_type": "error",
     "traceback": [
      "\u001b[1;31m---------------------------------------------------------------------------\u001b[0m",
      "\u001b[1;31mAttributeError\u001b[0m                            Traceback (most recent call last)",
      "\u001b[1;31mAttributeError\u001b[0m: _ARRAY_API not found"
     ]
    },
    {
     "name": "stderr",
     "output_type": "stream",
     "text": [
      "\n",
      "A module that was compiled using NumPy 1.x cannot be run in\n",
      "NumPy 2.0.0 as it may crash. To support both 1.x and 2.x\n",
      "versions of NumPy, modules must be compiled with NumPy 2.0.\n",
      "Some module may need to rebuild instead e.g. with 'pybind11>=2.12'.\n",
      "\n",
      "If you are a user of the module, the easiest solution will be to\n",
      "downgrade to 'numpy<2' or try to upgrade the affected module.\n",
      "We expect that some modules will need time to support NumPy 2.\n",
      "\n",
      "Traceback (most recent call last):  File \"<frozen runpy>\", line 198, in _run_module_as_main\n",
      "  File \"<frozen runpy>\", line 88, in _run_code\n",
      "  File \"C:\\Users\\ok\\anaconda3\\Lib\\site-packages\\ipykernel_launcher.py\", line 17, in <module>\n",
      "    app.launch_new_instance()\n",
      "  File \"C:\\Users\\ok\\anaconda3\\Lib\\site-packages\\traitlets\\config\\application.py\", line 992, in launch_instance\n",
      "    app.start()\n",
      "  File \"C:\\Users\\ok\\anaconda3\\Lib\\site-packages\\ipykernel\\kernelapp.py\", line 701, in start\n",
      "    self.io_loop.start()\n",
      "  File \"C:\\Users\\ok\\anaconda3\\Lib\\site-packages\\tornado\\platform\\asyncio.py\", line 195, in start\n",
      "    self.asyncio_loop.run_forever()\n",
      "  File \"C:\\Users\\ok\\anaconda3\\Lib\\asyncio\\windows_events.py\", line 321, in run_forever\n",
      "    super().run_forever()\n",
      "  File \"C:\\Users\\ok\\anaconda3\\Lib\\asyncio\\base_events.py\", line 607, in run_forever\n",
      "    self._run_once()\n",
      "  File \"C:\\Users\\ok\\anaconda3\\Lib\\asyncio\\base_events.py\", line 1922, in _run_once\n",
      "    handle._run()\n",
      "  File \"C:\\Users\\ok\\anaconda3\\Lib\\asyncio\\events.py\", line 80, in _run\n",
      "    self._context.run(self._callback, *self._args)\n",
      "  File \"C:\\Users\\ok\\anaconda3\\Lib\\site-packages\\ipykernel\\kernelbase.py\", line 534, in dispatch_queue\n",
      "    await self.process_one()\n",
      "  File \"C:\\Users\\ok\\anaconda3\\Lib\\site-packages\\ipykernel\\kernelbase.py\", line 523, in process_one\n",
      "    await dispatch(*args)\n",
      "  File \"C:\\Users\\ok\\anaconda3\\Lib\\site-packages\\ipykernel\\kernelbase.py\", line 429, in dispatch_shell\n",
      "    await result\n",
      "  File \"C:\\Users\\ok\\anaconda3\\Lib\\site-packages\\ipykernel\\kernelbase.py\", line 767, in execute_request\n",
      "    reply_content = await reply_content\n",
      "  File \"C:\\Users\\ok\\anaconda3\\Lib\\site-packages\\ipykernel\\ipkernel.py\", line 429, in do_execute\n",
      "    res = shell.run_cell(\n",
      "  File \"C:\\Users\\ok\\anaconda3\\Lib\\site-packages\\ipykernel\\zmqshell.py\", line 549, in run_cell\n",
      "    return super().run_cell(*args, **kwargs)\n",
      "  File \"C:\\Users\\ok\\anaconda3\\Lib\\site-packages\\IPython\\core\\interactiveshell.py\", line 3051, in run_cell\n",
      "    result = self._run_cell(\n",
      "  File \"C:\\Users\\ok\\anaconda3\\Lib\\site-packages\\IPython\\core\\interactiveshell.py\", line 3106, in _run_cell\n",
      "    result = runner(coro)\n",
      "  File \"C:\\Users\\ok\\anaconda3\\Lib\\site-packages\\IPython\\core\\async_helpers.py\", line 129, in _pseudo_sync_runner\n",
      "    coro.send(None)\n",
      "  File \"C:\\Users\\ok\\anaconda3\\Lib\\site-packages\\IPython\\core\\interactiveshell.py\", line 3311, in run_cell_async\n",
      "    has_raised = await self.run_ast_nodes(code_ast.body, cell_name,\n",
      "  File \"C:\\Users\\ok\\anaconda3\\Lib\\site-packages\\IPython\\core\\interactiveshell.py\", line 3493, in run_ast_nodes\n",
      "    if await self.run_code(code, result, async_=asy):\n",
      "  File \"C:\\Users\\ok\\anaconda3\\Lib\\site-packages\\IPython\\core\\interactiveshell.py\", line 3553, in run_code\n",
      "    exec(code_obj, self.user_global_ns, self.user_ns)\n",
      "  File \"C:\\Users\\ok\\AppData\\Local\\Temp\\ipykernel_12556\\3667885881.py\", line 5, in <module>\n",
      "    import pandas as pd\n",
      "  File \"C:\\Users\\ok\\anaconda3\\Lib\\site-packages\\pandas\\__init__.py\", line 62, in <module>\n",
      "    from pandas.core.api import (\n",
      "  File \"C:\\Users\\ok\\anaconda3\\Lib\\site-packages\\pandas\\core\\api.py\", line 28, in <module>\n",
      "    from pandas.core.arrays import Categorical\n",
      "  File \"C:\\Users\\ok\\anaconda3\\Lib\\site-packages\\pandas\\core\\arrays\\__init__.py\", line 1, in <module>\n",
      "    from pandas.core.arrays.arrow import ArrowExtensionArray\n",
      "  File \"C:\\Users\\ok\\anaconda3\\Lib\\site-packages\\pandas\\core\\arrays\\arrow\\__init__.py\", line 5, in <module>\n",
      "    from pandas.core.arrays.arrow.array import ArrowExtensionArray\n",
      "  File \"C:\\Users\\ok\\anaconda3\\Lib\\site-packages\\pandas\\core\\arrays\\arrow\\array.py\", line 64, in <module>\n",
      "    from pandas.core.arrays.masked import BaseMaskedArray\n",
      "  File \"C:\\Users\\ok\\anaconda3\\Lib\\site-packages\\pandas\\core\\arrays\\masked.py\", line 60, in <module>\n",
      "    from pandas.core import (\n",
      "  File \"C:\\Users\\ok\\anaconda3\\Lib\\site-packages\\pandas\\core\\nanops.py\", line 52, in <module>\n",
      "    bn = import_optional_dependency(\"bottleneck\", errors=\"warn\")\n",
      "  File \"C:\\Users\\ok\\anaconda3\\Lib\\site-packages\\pandas\\compat\\_optional.py\", line 135, in import_optional_dependency\n",
      "    module = importlib.import_module(name)\n",
      "  File \"C:\\Users\\ok\\anaconda3\\Lib\\importlib\\__init__.py\", line 126, in import_module\n",
      "    return _bootstrap._gcd_import(name[level:], package, level)\n",
      "  File \"C:\\Users\\ok\\anaconda3\\Lib\\site-packages\\bottleneck\\__init__.py\", line 7, in <module>\n",
      "    from .move import (move_argmax, move_argmin, move_max, move_mean, move_median,\n"
     ]
    },
    {
     "ename": "AttributeError",
     "evalue": "_ARRAY_API not found",
     "output_type": "error",
     "traceback": [
      "\u001b[1;31m---------------------------------------------------------------------------\u001b[0m",
      "\u001b[1;31mAttributeError\u001b[0m                            Traceback (most recent call last)",
      "\u001b[1;31mAttributeError\u001b[0m: _ARRAY_API not found"
     ]
    }
   ],
   "source": [
    "import os\n",
    "import time\n",
    "import joblib\n",
    "import numpy as np\n",
    "import pandas as pd\n",
    "import pickle as pkl\n",
    "from sklearn.svm import LinearSVR\n",
    "from sklearn.tree import DecisionTreeRegressor\n",
    "from sklearn.preprocessing import StandardScaler\n",
    "from sklearn.experimental import enable_iterative_imputer\n",
    "from sklearn.impute import SimpleImputer, IterativeImputer\n",
    "from sklearn.linear_model import LinearRegression, SGDRegressor\n",
    "from sklearn.feature_selection import SelectKBest, f_regression\n",
    "from sklearn.model_selection import train_test_split, GridSearchCV, KFold\n",
    "from sklearn.ensemble import RandomForestRegressor,VotingRegressor, GradientBoostingRegressor\n",
    "from sklearn.metrics import mean_absolute_error, mean_squared_error, mean_squared_log_error, r2_score\n"
   ]
  },
  {
   "cell_type": "code",
   "execution_count": 2,
   "id": "AUuJaZfdLCJd",
   "metadata": {
    "colab": {
     "base_uri": "https://localhost:8080/"
    },
    "id": "AUuJaZfdLCJd",
    "outputId": "b86ac3aa-fd86-4243-ce54-a2772ba15acc"
   },
   "outputs": [
    {
     "name": "stderr",
     "output_type": "stream",
     "text": [
      "C:\\Users\\ok\\AppData\\Local\\Temp\\ipykernel_12556\\928899926.py:1: DtypeWarning: Columns (108) have mixed types. Specify dtype option on import or set low_memory=False.\n",
      "  train_21 = pd.read_csv('male_players (legacy).csv')\n",
      "C:\\Users\\ok\\AppData\\Local\\Temp\\ipykernel_12556\\928899926.py:3: DtypeWarning: Columns (25,108) have mixed types. Specify dtype option on import or set low_memory=False.\n",
      "  train_22 = pd.read_csv('players_22.csv')\n"
     ]
    }
   ],
   "source": [
    "train_21 = pd.read_csv('male_players (legacy).csv')\n",
    "\n",
    "train_22 = pd.read_csv('players_22.csv')"
   ]
  },
  {
   "cell_type": "code",
   "execution_count": null,
   "id": "f37ff381",
   "metadata": {
    "id": "f37ff381"
   },
   "outputs": [],
   "source": []
  },
  {
   "cell_type": "markdown",
   "id": "4c143bf3",
   "metadata": {},
   "source": [
    "## Data Pre-Processing"
   ]
  },
  {
   "cell_type": "markdown",
   "id": "d3634729",
   "metadata": {
    "id": "d3634729"
   },
   "source": [
    "Checking and dropping variables with more than 30% missing values"
   ]
  },
  {
   "cell_type": "code",
   "execution_count": 3,
   "id": "9edaad9b",
   "metadata": {
    "id": "9edaad9b"
   },
   "outputs": [],
   "source": [
    "threshold = 0.3 * train_21.shape[0]\n",
    "train_21 = train_21.dropna(thresh=threshold, axis=1)\n",
    "train_21.drop(columns=['wage_eur','value_eur', 'international_reputation', 'release_clause_eur'], inplace=True)\n"
   ]
  },
  {
   "cell_type": "code",
   "execution_count": null,
   "id": "042cc615",
   "metadata": {
    "id": "042cc615"
   },
   "outputs": [],
   "source": []
  },
  {
   "cell_type": "markdown",
   "id": "843a4cf7",
   "metadata": {
    "id": "56eb07a4"
   },
   "source": [
    "Selecting Numeric Features"
   ]
  },
  {
   "cell_type": "code",
   "execution_count": 4,
   "id": "edba830b",
   "metadata": {
    "id": "edba830b"
   },
   "outputs": [],
   "source": [
    "# selecting numerical features\n",
    "numerical_features = train_21.select_dtypes(include =[np.number])"
   ]
  },
  {
   "cell_type": "markdown",
   "id": "fab5b514",
   "metadata": {
    "id": "fab5b514"
   },
   "source": [
    "### Multivariable Imputation, Scaling and Normalization on numerical variables"
   ]
  },
  {
   "cell_type": "code",
   "execution_count": null,
   "id": "d732e966",
   "metadata": {},
   "outputs": [],
   "source": []
  },
  {
   "cell_type": "code",
   "execution_count": 5,
   "id": "cfa1d93e",
   "metadata": {
    "id": "cfa1d93e"
   },
   "outputs": [],
   "source": [
    "#Simple imputing\n",
    "imp = SimpleImputer(strategy='mean')\n",
    "numerical_features = pd.DataFrame(imp.fit_transform(numerical_features), columns=numerical_features.columns, index=numerical_features.index)\n",
    "\n",
    "#Scaling\n",
    "scaler = StandardScaler()\n",
    "scaled_data = scaler.fit_transform(numerical_features)\n",
    "\n",
    "#Iterative imputing\n",
    "imp = IterativeImputer(initial_strategy='mean', max_iter=50, random_state=0)\n",
    "imputed_scaled_data = imp.fit_transform(scaled_data)\n",
    "imputed_data = scaler.inverse_transform(imputed_scaled_data)\n",
    "\n",
    "numerical_features = pd.DataFrame(imputed_data, columns = numerical_features.columns, index=numerical_features.index)\n",
    "#Filling remaining missing values.\n",
    "numerical_features = numerical_features.fillna(numerical_features.mean())"
   ]
  },
  {
   "cell_type": "code",
   "execution_count": 6,
   "id": "ceec23ac",
   "metadata": {
    "colab": {
     "base_uri": "https://localhost:8080/",
     "height": 444
    },
    "id": "ceec23ac",
    "outputId": "eeb5d038-077f-4def-f19e-5bc976928dd0",
    "scrolled": false
   },
   "outputs": [],
   "source": [
    "#Specifying dependent and independent variables\n",
    "y = numerical_features['overall']\n",
    "X = numerical_features.drop(columns = ['overall'])"
   ]
  },
  {
   "cell_type": "markdown",
   "id": "a7ecee9d",
   "metadata": {
    "id": "a7ecee9d"
   },
   "source": [
    "### Feature Importance"
   ]
  },
  {
   "cell_type": "code",
   "execution_count": 7,
   "id": "14ce1d81",
   "metadata": {
    "colab": {
     "base_uri": "https://localhost:8080/"
    },
    "id": "14ce1d81",
    "outputId": "0b1e1646-838f-4954-fc97-e71f21c43d85",
    "scrolled": false
   },
   "outputs": [
    {
     "data": {
      "text/html": [
       "<div>\n",
       "<style scoped>\n",
       "    .dataframe tbody tr th:only-of-type {\n",
       "        vertical-align: middle;\n",
       "    }\n",
       "\n",
       "    .dataframe tbody tr th {\n",
       "        vertical-align: top;\n",
       "    }\n",
       "\n",
       "    .dataframe thead th {\n",
       "        text-align: right;\n",
       "    }\n",
       "</style>\n",
       "<table border=\"1\" class=\"dataframe\">\n",
       "  <thead>\n",
       "    <tr style=\"text-align: right;\">\n",
       "      <th></th>\n",
       "      <th>potential</th>\n",
       "      <th>age</th>\n",
       "      <th>shooting</th>\n",
       "      <th>passing</th>\n",
       "      <th>dribbling</th>\n",
       "      <th>physic</th>\n",
       "      <th>attacking_crossing</th>\n",
       "      <th>attacking_short_passing</th>\n",
       "      <th>skill_curve</th>\n",
       "      <th>skill_long_passing</th>\n",
       "      <th>skill_ball_control</th>\n",
       "      <th>movement_reactions</th>\n",
       "      <th>power_shot_power</th>\n",
       "      <th>power_long_shots</th>\n",
       "      <th>mentality_aggression</th>\n",
       "      <th>mentality_vision</th>\n",
       "      <th>mentality_composure</th>\n",
       "    </tr>\n",
       "  </thead>\n",
       "  <tbody>\n",
       "    <tr>\n",
       "      <th>0</th>\n",
       "      <td>95</td>\n",
       "      <td>27</td>\n",
       "      <td>89.0</td>\n",
       "      <td>86.0</td>\n",
       "      <td>96.0</td>\n",
       "      <td>63.0</td>\n",
       "      <td>84</td>\n",
       "      <td>89</td>\n",
       "      <td>89</td>\n",
       "      <td>76</td>\n",
       "      <td>96</td>\n",
       "      <td>94</td>\n",
       "      <td>80</td>\n",
       "      <td>88</td>\n",
       "      <td>48</td>\n",
       "      <td>90</td>\n",
       "      <td>NaN</td>\n",
       "    </tr>\n",
       "    <tr>\n",
       "      <th>1</th>\n",
       "      <td>92</td>\n",
       "      <td>29</td>\n",
       "      <td>93.0</td>\n",
       "      <td>81.0</td>\n",
       "      <td>91.0</td>\n",
       "      <td>79.0</td>\n",
       "      <td>83</td>\n",
       "      <td>82</td>\n",
       "      <td>88</td>\n",
       "      <td>72</td>\n",
       "      <td>92</td>\n",
       "      <td>90</td>\n",
       "      <td>94</td>\n",
       "      <td>93</td>\n",
       "      <td>63</td>\n",
       "      <td>81</td>\n",
       "      <td>NaN</td>\n",
       "    </tr>\n",
       "    <tr>\n",
       "      <th>2</th>\n",
       "      <td>90</td>\n",
       "      <td>30</td>\n",
       "      <td>86.0</td>\n",
       "      <td>83.0</td>\n",
       "      <td>92.0</td>\n",
       "      <td>64.0</td>\n",
       "      <td>80</td>\n",
       "      <td>86</td>\n",
       "      <td>85</td>\n",
       "      <td>76</td>\n",
       "      <td>90</td>\n",
       "      <td>89</td>\n",
       "      <td>86</td>\n",
       "      <td>90</td>\n",
       "      <td>47</td>\n",
       "      <td>84</td>\n",
       "      <td>NaN</td>\n",
       "    </tr>\n",
       "    <tr>\n",
       "      <th>3</th>\n",
       "      <td>90</td>\n",
       "      <td>32</td>\n",
       "      <td>91.0</td>\n",
       "      <td>81.0</td>\n",
       "      <td>86.0</td>\n",
       "      <td>86.0</td>\n",
       "      <td>76</td>\n",
       "      <td>84</td>\n",
       "      <td>80</td>\n",
       "      <td>76</td>\n",
       "      <td>90</td>\n",
       "      <td>85</td>\n",
       "      <td>93</td>\n",
       "      <td>88</td>\n",
       "      <td>84</td>\n",
       "      <td>83</td>\n",
       "      <td>NaN</td>\n",
       "    </tr>\n",
       "    <tr>\n",
       "      <th>4</th>\n",
       "      <td>90</td>\n",
       "      <td>28</td>\n",
       "      <td>NaN</td>\n",
       "      <td>NaN</td>\n",
       "      <td>NaN</td>\n",
       "      <td>NaN</td>\n",
       "      <td>25</td>\n",
       "      <td>42</td>\n",
       "      <td>25</td>\n",
       "      <td>41</td>\n",
       "      <td>31</td>\n",
       "      <td>89</td>\n",
       "      <td>42</td>\n",
       "      <td>25</td>\n",
       "      <td>29</td>\n",
       "      <td>20</td>\n",
       "      <td>NaN</td>\n",
       "    </tr>\n",
       "    <tr>\n",
       "      <th>...</th>\n",
       "      <td>...</td>\n",
       "      <td>...</td>\n",
       "      <td>...</td>\n",
       "      <td>...</td>\n",
       "      <td>...</td>\n",
       "      <td>...</td>\n",
       "      <td>...</td>\n",
       "      <td>...</td>\n",
       "      <td>...</td>\n",
       "      <td>...</td>\n",
       "      <td>...</td>\n",
       "      <td>...</td>\n",
       "      <td>...</td>\n",
       "      <td>...</td>\n",
       "      <td>...</td>\n",
       "      <td>...</td>\n",
       "      <td>...</td>\n",
       "    </tr>\n",
       "    <tr>\n",
       "      <th>161578</th>\n",
       "      <td>61</td>\n",
       "      <td>18</td>\n",
       "      <td>48.0</td>\n",
       "      <td>40.0</td>\n",
       "      <td>47.0</td>\n",
       "      <td>44.0</td>\n",
       "      <td>48</td>\n",
       "      <td>38</td>\n",
       "      <td>39</td>\n",
       "      <td>33</td>\n",
       "      <td>45</td>\n",
       "      <td>39</td>\n",
       "      <td>64</td>\n",
       "      <td>31</td>\n",
       "      <td>26</td>\n",
       "      <td>42</td>\n",
       "      <td>40.0</td>\n",
       "    </tr>\n",
       "    <tr>\n",
       "      <th>161579</th>\n",
       "      <td>58</td>\n",
       "      <td>19</td>\n",
       "      <td>25.0</td>\n",
       "      <td>29.0</td>\n",
       "      <td>34.0</td>\n",
       "      <td>57.0</td>\n",
       "      <td>30</td>\n",
       "      <td>30</td>\n",
       "      <td>24</td>\n",
       "      <td>25</td>\n",
       "      <td>32</td>\n",
       "      <td>42</td>\n",
       "      <td>33</td>\n",
       "      <td>25</td>\n",
       "      <td>46</td>\n",
       "      <td>31</td>\n",
       "      <td>35.0</td>\n",
       "    </tr>\n",
       "    <tr>\n",
       "      <th>161580</th>\n",
       "      <td>58</td>\n",
       "      <td>19</td>\n",
       "      <td>36.0</td>\n",
       "      <td>43.0</td>\n",
       "      <td>46.0</td>\n",
       "      <td>53.0</td>\n",
       "      <td>37</td>\n",
       "      <td>51</td>\n",
       "      <td>30</td>\n",
       "      <td>43</td>\n",
       "      <td>35</td>\n",
       "      <td>50</td>\n",
       "      <td>51</td>\n",
       "      <td>32</td>\n",
       "      <td>51</td>\n",
       "      <td>40</td>\n",
       "      <td>35.0</td>\n",
       "    </tr>\n",
       "    <tr>\n",
       "      <th>161581</th>\n",
       "      <td>70</td>\n",
       "      <td>17</td>\n",
       "      <td>50.0</td>\n",
       "      <td>36.0</td>\n",
       "      <td>46.0</td>\n",
       "      <td>42.0</td>\n",
       "      <td>29</td>\n",
       "      <td>40</td>\n",
       "      <td>38</td>\n",
       "      <td>26</td>\n",
       "      <td>43</td>\n",
       "      <td>45</td>\n",
       "      <td>42</td>\n",
       "      <td>47</td>\n",
       "      <td>27</td>\n",
       "      <td>44</td>\n",
       "      <td>43.0</td>\n",
       "    </tr>\n",
       "    <tr>\n",
       "      <th>161582</th>\n",
       "      <td>63</td>\n",
       "      <td>17</td>\n",
       "      <td>22.0</td>\n",
       "      <td>26.0</td>\n",
       "      <td>32.0</td>\n",
       "      <td>57.0</td>\n",
       "      <td>21</td>\n",
       "      <td>32</td>\n",
       "      <td>21</td>\n",
       "      <td>29</td>\n",
       "      <td>31</td>\n",
       "      <td>40</td>\n",
       "      <td>33</td>\n",
       "      <td>20</td>\n",
       "      <td>62</td>\n",
       "      <td>20</td>\n",
       "      <td>30.0</td>\n",
       "    </tr>\n",
       "  </tbody>\n",
       "</table>\n",
       "<p>161583 rows × 17 columns</p>\n",
       "</div>"
      ],
      "text/plain": [
       "        potential  age  shooting  passing  dribbling  physic  \\\n",
       "0              95   27      89.0     86.0       96.0    63.0   \n",
       "1              92   29      93.0     81.0       91.0    79.0   \n",
       "2              90   30      86.0     83.0       92.0    64.0   \n",
       "3              90   32      91.0     81.0       86.0    86.0   \n",
       "4              90   28       NaN      NaN        NaN     NaN   \n",
       "...           ...  ...       ...      ...        ...     ...   \n",
       "161578         61   18      48.0     40.0       47.0    44.0   \n",
       "161579         58   19      25.0     29.0       34.0    57.0   \n",
       "161580         58   19      36.0     43.0       46.0    53.0   \n",
       "161581         70   17      50.0     36.0       46.0    42.0   \n",
       "161582         63   17      22.0     26.0       32.0    57.0   \n",
       "\n",
       "        attacking_crossing  attacking_short_passing  skill_curve  \\\n",
       "0                       84                       89           89   \n",
       "1                       83                       82           88   \n",
       "2                       80                       86           85   \n",
       "3                       76                       84           80   \n",
       "4                       25                       42           25   \n",
       "...                    ...                      ...          ...   \n",
       "161578                  48                       38           39   \n",
       "161579                  30                       30           24   \n",
       "161580                  37                       51           30   \n",
       "161581                  29                       40           38   \n",
       "161582                  21                       32           21   \n",
       "\n",
       "        skill_long_passing  skill_ball_control  movement_reactions  \\\n",
       "0                       76                  96                  94   \n",
       "1                       72                  92                  90   \n",
       "2                       76                  90                  89   \n",
       "3                       76                  90                  85   \n",
       "4                       41                  31                  89   \n",
       "...                    ...                 ...                 ...   \n",
       "161578                  33                  45                  39   \n",
       "161579                  25                  32                  42   \n",
       "161580                  43                  35                  50   \n",
       "161581                  26                  43                  45   \n",
       "161582                  29                  31                  40   \n",
       "\n",
       "        power_shot_power  power_long_shots  mentality_aggression  \\\n",
       "0                     80                88                    48   \n",
       "1                     94                93                    63   \n",
       "2                     86                90                    47   \n",
       "3                     93                88                    84   \n",
       "4                     42                25                    29   \n",
       "...                  ...               ...                   ...   \n",
       "161578                64                31                    26   \n",
       "161579                33                25                    46   \n",
       "161580                51                32                    51   \n",
       "161581                42                47                    27   \n",
       "161582                33                20                    62   \n",
       "\n",
       "        mentality_vision  mentality_composure  \n",
       "0                     90                  NaN  \n",
       "1                     81                  NaN  \n",
       "2                     84                  NaN  \n",
       "3                     83                  NaN  \n",
       "4                     20                  NaN  \n",
       "...                  ...                  ...  \n",
       "161578                42                 40.0  \n",
       "161579                31                 35.0  \n",
       "161580                40                 35.0  \n",
       "161581                44                 43.0  \n",
       "161582                20                 30.0  \n",
       "\n",
       "[161583 rows x 17 columns]"
      ]
     },
     "execution_count": 7,
     "metadata": {},
     "output_type": "execute_result"
    }
   ],
   "source": [
    "selector = SelectKBest(score_func=f_regression, k=17)  # Select top 17 features\n",
    "X_new = selector.fit_transform(X, y)\n",
    "important_features = X.columns[selector.get_support()]\n",
    "\n",
    "train_21[important_features]"
   ]
  },
  {
   "cell_type": "code",
   "execution_count": 8,
   "id": "23c9d54a",
   "metadata": {
    "id": "23c9d54a"
   },
   "outputs": [],
   "source": [
    "X = pd.DataFrame(X_new, columns=important_features, index = X.index)"
   ]
  },
  {
   "cell_type": "code",
   "execution_count": null,
   "id": "6331ca88",
   "metadata": {
    "id": "6331ca88"
   },
   "outputs": [],
   "source": []
  },
  {
   "cell_type": "markdown",
   "id": "MMGgLyC5V1Bd",
   "metadata": {
    "id": "MMGgLyC5V1Bd"
   },
   "source": [
    "Splitting data to training and testing"
   ]
  },
  {
   "cell_type": "code",
   "execution_count": 9,
   "id": "21ca0b33",
   "metadata": {
    "id": "21ca0b33"
   },
   "outputs": [],
   "source": [
    "Xtrain,Xtest,Ytrain,Ytest=train_test_split(X,y,test_size=0.2,random_state=42,stratify=y)"
   ]
  },
  {
   "cell_type": "markdown",
   "id": "11004229",
   "metadata": {},
   "source": [
    "### Specifying models"
   ]
  },
  {
   "cell_type": "code",
   "execution_count": 10,
   "id": "139ecef1",
   "metadata": {
    "id": "139ecef1"
   },
   "outputs": [],
   "source": [
    "dtree = DecisionTreeRegressor(max_depth=15)\n",
    "lregressor = LinearRegression()\n",
    "sdg = SGDRegressor(max_iter = 5000)\n",
    "gb = GradientBoostingRegressor()"
   ]
  },
  {
   "cell_type": "code",
   "execution_count": null,
   "id": "643c78fc",
   "metadata": {
    "id": "643c78fc"
   },
   "outputs": [],
   "source": []
  },
  {
   "cell_type": "markdown",
   "id": "8dcc4a4e",
   "metadata": {
    "id": "8dcc4a4e"
   },
   "source": [
    "### Training Models"
   ]
  },
  {
   "cell_type": "code",
   "execution_count": 11,
   "id": "wpzB7g6rgYCC",
   "metadata": {
    "colab": {
     "base_uri": "https://localhost:8080/"
    },
    "id": "wpzB7g6rgYCC",
    "outputId": "6133ea9b-7a31-44ab-c530-68c959826f8f"
   },
   "outputs": [
    {
     "name": "stdout",
     "output_type": "stream",
     "text": [
      "\n",
      " DecisionTreeRegressor: \n",
      " Mean Absolute error: 1.0083803973078416 \n",
      " Mean Squared Error: 2.4697095664669972 \n",
      " R2_score: 0.9491479661344031\n",
      "\n",
      " LinearRegression: \n",
      " Mean Absolute error: 1.5912113488288557 \n",
      " Mean Squared Error: 4.22164755647704 \n",
      " R2_score: 0.907298073274693\n",
      "\n",
      " SGDRegressor: \n",
      " Mean Absolute error: 4004996308561.363 \n",
      " Mean Squared Error: 1.6834896499111234e+25 \n",
      " R2_score: -20.178605976039304\n",
      "\n",
      " GradientBoostingRegressor: \n",
      " Mean Absolute error: 1.0180466202364418 \n",
      " Mean Squared Error: 2.000977508284293 \n",
      " R2_score: 0.9568529324162985\n"
     ]
    }
   ],
   "source": [
    "for model in (dtree, lregressor, sdg, gb):\n",
    "    model.fit(Xtrain, Ytrain)\n",
    "\n",
    "    y_pred = model.predict(Xtest)\n",
    "\n",
    "    print(f'''\\n {model.__class__.__name__}: \\n Mean Absolute error: {mean_absolute_error(y_pred, Ytest)} \\n Mean Squared Error: {mean_squared_error(y_pred, Ytest)} \\n R2_score: {r2_score(y_pred, Ytest)}''')\n"
   ]
  },
  {
   "cell_type": "code",
   "execution_count": null,
   "id": "cStAKr6dpX7R",
   "metadata": {
    "id": "cStAKr6dpX7R"
   },
   "outputs": [],
   "source": []
  },
  {
   "cell_type": "code",
   "execution_count": 12,
   "id": "d4d5dd9c",
   "metadata": {
    "scrolled": true
   },
   "outputs": [
    {
     "data": {
      "text/plain": [
       "['mentality_vision',\n",
       " 'attacking_short_passing',\n",
       " 'skill_long_passing',\n",
       " 'skill_curve',\n",
       " 'movement_reactions',\n",
       " 'potential',\n",
       " 'power_shot_power',\n",
       " 'mentality_aggression',\n",
       " 'age',\n",
       " 'mentality_composure',\n",
       " 'skill_ball_control',\n",
       " 'power_long_shots',\n",
       " 'attacking_crossing']"
      ]
     },
     "execution_count": 12,
     "metadata": {},
     "output_type": "execute_result"
    }
   ],
   "source": [
    "#Preparing testing dataset\n",
    "train_22_cleaned = train_22.select_dtypes(include=[np.number]).dropna(axis=1)\n",
    "common_features = list(set(X.columns) & set(train_22_cleaned.columns))\n",
    "    \n",
    "new_X = X[common_features]\n",
    "x_test22 = train_22_cleaned[common_features]\n",
    "y_test22 = train_22_cleaned['overall']\n",
    "common_features"
   ]
  },
  {
   "cell_type": "code",
   "execution_count": 13,
   "id": "5c43f968",
   "metadata": {},
   "outputs": [
    {
     "name": "stdout",
     "output_type": "stream",
     "text": [
      "\n",
      " DecisionTreeRegressor: \n",
      " Mean Absolute error: 1.0200948257882119 \n",
      " Mean Squared Error: 2.570605455072418 \n",
      " R2_score: 0.9471951320630893\n",
      "\n",
      " LinearRegression: \n",
      " Mean Absolute error: 1.716150460575369 \n",
      " Mean Squared Error: 4.884792327229832 \n",
      " R2_score: 0.8914508013566178\n",
      "\n",
      " SGDRegressor: \n",
      " Mean Absolute error: 2623965261468.5176 \n",
      " Mean Squared Error: 7.232330911299281e+24 \n",
      " R2_score: -19.83421349873524\n",
      "\n",
      " GradientBoostingRegressor: \n",
      " Mean Absolute error: 1.051202659491422 \n",
      " Mean Squared Error: 2.159652789506147 \n",
      " R2_score: 0.9532256809038673\n"
     ]
    }
   ],
   "source": [
    "#Training models again with new dataset\n",
    "for model in (dtree, lregressor,  sdg, gb):\n",
    "    #Spliting into trainig and testing\n",
    "    Xtrain,X_test,Ytrain,Y_test=train_test_split(new_X,y,test_size=0.2,random_state=42,stratify=y)\n",
    "    model.fit(Xtrain, Ytrain)\n",
    "    \n",
    "    y_pred = model.predict(X_test)\n",
    "\n",
    "    print(f'''\\n {model.__class__.__name__}: \\n Mean Absolute error: {mean_absolute_error(y_pred, Y_test)} \\n Mean Squared Error: {mean_squared_error(y_pred, Y_test)} \\n R2_score: {r2_score(y_pred, Y_test)}''')\n"
   ]
  },
  {
   "cell_type": "code",
   "execution_count": null,
   "id": "cee02c00",
   "metadata": {},
   "outputs": [],
   "source": []
  },
  {
   "cell_type": "code",
   "execution_count": 14,
   "id": "b52a9e5b",
   "metadata": {},
   "outputs": [
    {
     "name": "stdout",
     "output_type": "stream",
     "text": [
      "\n",
      " DecisionTreeRegressor \n",
      " Mean Absolute error: 7.844077513458882 \n",
      " Mean Squared Error: 96.89211506084618 \n",
      " R2_score: -1.0904820945386322\n",
      "\n",
      " LinearRegression \n",
      " Mean Absolute error: 7.668894478790567 \n",
      " Mean Squared Error: 92.9538767084892 \n",
      " R2_score: -1.1872424900506058\n",
      "\n",
      " SGDRegressor \n",
      " Mean Absolute error: 3649327201191.9136 \n",
      " Mean Squared Error: 1.3924417197896634e+25 \n",
      " R2_score: -21.946227179745016\n",
      "\n",
      " GradientBoostingRegressor \n",
      " Mean Absolute error: 7.738199155880054 \n",
      " Mean Squared Error: 94.25537866334673 \n",
      " R2_score: -1.1577355629087154\n"
     ]
    }
   ],
   "source": [
    "#Evaluating models on testing dataset\n",
    "for model in (dtree, lregressor,  sdg, gb):\n",
    "    X_train,X_test,Y_train,Y_test=train_test_split(new_X,y,test_size=0.2,random_state=42,stratify=y)\n",
    "    model.fit(X_train, Y_train)\n",
    "    Y_test = Y_test[:len(x_test22)]\n",
    "    y_pred = model.predict(x_test22)\n",
    "    \n",
    "    print(f'''\\n {model.__class__.__name__} \\n Mean Absolute error: {mean_absolute_error(y_pred, Y_test)} \\n Mean Squared Error: {mean_squared_error(y_pred, Y_test)} \\n R2_score: {r2_score(y_pred, Y_test)}''')\n"
   ]
  },
  {
   "cell_type": "markdown",
   "id": "fc8ed4e3",
   "metadata": {
    "id": "fc8ed4e3"
   },
   "source": [
    "## Ensemble Learning"
   ]
  },
  {
   "cell_type": "markdown",
   "id": "da452099",
   "metadata": {
    "id": "da452099"
   },
   "source": [
    "### Grid Search with Cross Validation"
   ]
  },
  {
   "cell_type": "markdown",
   "id": "2f885810",
   "metadata": {
    "id": "baf9796f"
   },
   "source": [
    "Using voting Regressor"
   ]
  },
  {
   "cell_type": "code",
   "execution_count": 15,
   "id": "80e56ba2",
   "metadata": {},
   "outputs": [],
   "source": [
    "voting_ensemble_model = VotingRegressor(estimators=[\n",
    "    ('Decision Tree', dtree),\n",
    "    ('Linear Regressor', lregressor),\n",
    "    ('SDG Regressor', sdg),\n",
    "    ('Gradient Boosting Regressor', gb)\n",
    "])\n",
    "\n",
    "X_test = X_test[:len(Y_test)]\n",
    "voting_ensemble_model.fit(Xtrain, Ytrain)\n",
    "voting_y_predict = voting_ensemble_model.predict(X_test)\n"
   ]
  },
  {
   "cell_type": "code",
   "execution_count": 16,
   "id": "90128c4c",
   "metadata": {},
   "outputs": [
    {
     "name": "stdout",
     "output_type": "stream",
     "text": [
      "Voting Regressor ensemble performance on testing dataset\n",
      "\n",
      " DecisionTreeRegressor: \n",
      " Mean Absolute error: 96314267977.82877 \n",
      " Mean Squared Error: 1.1152789851440174e+22 \n",
      " R2_score: -2.2831007492657555e+20\n",
      "\n",
      " LinearRegression: \n",
      " Mean Absolute error: 96314267977.82877 \n",
      " Mean Squared Error: 1.1152789851440174e+22 \n",
      " R2_score: -2.2831007492657555e+20\n",
      "\n",
      " SGDRegressor: \n",
      " Mean Absolute error: 96314267977.82877 \n",
      " Mean Squared Error: 1.1152789851440174e+22 \n",
      " R2_score: -2.2831007492657555e+20\n",
      "\n",
      " GradientBoostingRegressor: \n",
      " Mean Absolute error: 96314267977.82877 \n",
      " Mean Squared Error: 1.1152789851440174e+22 \n",
      " R2_score: -2.2831007492657555e+20\n"
     ]
    }
   ],
   "source": [
    "#Evaluating ensembling model\n",
    "print(\"Voting Regressor ensemble performance on testing dataset\")\n",
    "for model in (dtree, lregressor,  sdg, gb):\n",
    "    print(f'''\\n {model.__class__.__name__}: \\n Mean Absolute error: {mean_absolute_error(Y_test, voting_y_predict)} \\n Mean Squared Error: {mean_squared_error(Y_test, voting_y_predict)} \\n R2_score: {r2_score(Y_test, voting_y_predict)}''')"
   ]
  },
  {
   "cell_type": "code",
   "execution_count": 17,
   "id": "e3243044",
   "metadata": {},
   "outputs": [
    {
     "name": "stdout",
     "output_type": "stream",
     "text": [
      "Model: DecisionTreeRegressor, MSE: 2.5441204421161814, R2: 0.9479190107140079\n",
      "Model: LinearRegression, MSE: 4.871870757885745, R2: 0.9002673597743928\n",
      "Model: SGDRegressor, MSE: 1.3873200007658974e+25, R2: -2.8399991171814104e+23\n",
      "Model: GradientBoostingRegressor, MSE: 2.1244935962152653, R2: 0.9565092413114641\n",
      "\n",
      "All Results:\n",
      "{'DecisionTreeRegressor': {'MSE': np.float64(2.5441204421161814), 'R2': 0.9479190107140079}, 'LinearRegression': {'MSE': np.float64(4.871870757885745), 'R2': 0.9002673597743928}, 'SGDRegressor': {'MSE': np.float64(1.3873200007658974e+25), 'R2': -2.8399991171814104e+23}, 'GradientBoostingRegressor': {'MSE': np.float64(2.1244935962152653), 'R2': 0.9565092413114641}}\n",
      "\n",
      "Best Model:\n",
      "GradientBoostingRegressor()\n"
     ]
    }
   ],
   "source": [
    "best_model = None\n",
    "best_score = float('inf')\n",
    "results = {}\n",
    "\n",
    "for model in (dtree, lregressor,  sdg, gb):\n",
    "    y_predict = model.predict(X_test)\n",
    "    mse = mean_squared_error(Y_test, y_predict)\n",
    "    r2 = r2_score(Y_test, y_predict)\n",
    "    results[model.__class__.__name__] = {'MSE': mse, 'R2': r2}\n",
    "    print(f\"Model: {model.__class__.__name__}, MSE: {mse}, R2: {r2}\")\n",
    "    if mse < best_score:\n",
    "        best_score = mse\n",
    "        best_model = model\n",
    "\n",
    "print(\"\\nAll Results:\")\n",
    "print(results)\n",
    "\n",
    "print(\"\\nBest Model:\")\n",
    "print(best_model)"
   ]
  },
  {
   "cell_type": "code",
   "execution_count": 18,
   "id": "d34d3402",
   "metadata": {},
   "outputs": [
    {
     "name": "stdout",
     "output_type": "stream",
     "text": [
      "\n",
      " DecisionTreeRegressor: \n",
      " Mean Absolute error: 94701772397.20345 \n",
      " Mean Squared Error: 1.0730434017495867e+22 \n",
      " R2_score: -2.086994868840993\n",
      "\n",
      " LinearRegression: \n",
      " Mean Absolute error: 94701772397.20345 \n",
      " Mean Squared Error: 1.0730434017495867e+22 \n",
      " R2_score: -2.086994868840993\n",
      "\n",
      " SGDRegressor: \n",
      " Mean Absolute error: 94701772397.20345 \n",
      " Mean Squared Error: 1.0730434017495867e+22 \n",
      " R2_score: -2.086994868840993\n",
      "\n",
      " GradientBoostingRegressor: \n",
      " Mean Absolute error: 94701772397.20345 \n",
      " Mean Squared Error: 1.0730434017495867e+22 \n",
      " R2_score: -2.086994868840993\n"
     ]
    }
   ],
   "source": [
    "#Testing ensembling model with 2022 dataset\n",
    "voting_y22_predict = voting_ensemble_model.predict(x_test22)\n",
    "\n",
    "joblib.dump(voting_ensemble_model, \"voting_model_predictor.joblib\")\n",
    "#Evaluating\n",
    "for model in (dtree, lregressor,  sdg, gb):\n",
    "    print(f'''\\n {model.__class__.__name__}: \\n Mean Absolute error: {mean_absolute_error(voting_y22_predict, y_test22)} \\n Mean Squared Error: {mean_squared_error(voting_y22_predict, y_test22)} \\n R2_score: {r2_score(voting_y22_predict, y_test22)}''')"
   ]
  },
  {
   "cell_type": "code",
   "execution_count": null,
   "id": "140667ab",
   "metadata": {},
   "outputs": [],
   "source": []
  },
  {
   "cell_type": "code",
   "execution_count": 19,
   "id": "7d44bed3",
   "metadata": {
    "colab": {
     "base_uri": "https://localhost:8080/",
     "height": 356
    },
    "id": "7d44bed3",
    "outputId": "d58cfd6a-1efd-4998-a745-49fa8da8360b",
    "scrolled": false
   },
   "outputs": [
    {
     "name": "stdout",
     "output_type": "stream",
     "text": [
      "Fitting 3 folds for each of 9 candidates, totalling 27 fits\n",
      "Fitting 3 folds for each of 324 candidates, totalling 972 fits\n",
      "Fitting 3 folds for each of 6 candidates, totalling 18 fits\n",
      "Grid Search Duration: 93.37472867965698 seconds\n",
      "\n",
      " VotingRegressor: \n",
      " Mean Absolute error: 1.2221386592361594 \n",
      " Mean Squared Error: 2.5962739859256616 \n",
      " R2_score: 0.9409189122305959\n"
     ]
    }
   ],
   "source": [
    "# Define the parameter grid for each model\n",
    "params_dtree = {\n",
    "    'max_depth': [3, 5, 7],\n",
    "    'min_samples_split': [2, 5, 10]\n",
    "}\n",
    "\n",
    "params_sdg = {\n",
    "    'loss': ['squared_error', 'epsilon_insensitive'],\n",
    "    'penalty': ['l2', 'l1'], # regularization\n",
    "    'alpha': [0.0001, 0.001, 0.01],\n",
    "    'l1_ratio': [0.15, 0.5, 0.85],\n",
    "    'max_iter': [1000, 5000, 7000],\n",
    "    'learning_rate': ['constant', 'optimal', 'adaptive']\n",
    "}\n",
    "\n",
    "params_gb = {\n",
    "    'n_estimators': [100, 200],\n",
    "    'max_depth': [3, 5, 7]\n",
    "}\n",
    "\n",
    "# Define the cross-validation strategy\n",
    "cv = KFold(n_splits=3)\n",
    "\n",
    "# Perform GridSearchCV for each model\n",
    "grid_search_dtree = GridSearchCV(estimator=dtree, param_grid=params_dtree, cv=cv, n_jobs=-1, verbose=2)\n",
    "grid_search_sdg = GridSearchCV(estimator=sdg, param_grid=params_sdg, cv=cv, n_jobs=-1, verbose=2)\n",
    "grid_search_gb = GridSearchCV(estimator=gb, param_grid=params_gb, cv=cv, n_jobs=-1, verbose=2)\n",
    "\n",
    "# Fit each grid search\n",
    "grid_search_dtree.fit(X_train, Y_train)\n",
    "grid_search_sdg.fit(X_train, Y_train)\n",
    "grid_search_gb.fit(X_train, Y_train)\n",
    "\n",
    "# Get the best models from grid search\n",
    "best_dtree = grid_search_dtree.best_estimator_\n",
    "best_sdg = grid_search_sdg.best_estimator_\n",
    "best_gb = grid_search_gb.best_estimator_\n",
    "\n",
    "# Define the VotingRegressor with the best estimators\n",
    "voting_regressor = VotingRegressor(estimators=[\n",
    "    ('dtree', best_dtree),\n",
    "    ('lregressor', lregressor),\n",
    "    ('sdg', best_sdg),\n",
    "    ('gb', best_gb)\n",
    "])\n",
    "\n",
    "# Training the VotingRegressor\n",
    "start_time = time.time()\n",
    "voting_regressor.fit(X_train, Y_train)\n",
    "search_duration = time.time() - start_time\n",
    "\n",
    "# Save the model\n",
    "joblib.dump(voting_regressor, \"best_model_predictor.joblib\")\n",
    "\n",
    "\n",
    "# Predict and evaluate\n",
    "y_pred = voting_regressor.predict(X_test)\n",
    "\n",
    "print(f\"Grid Search Duration: {search_duration} seconds\")\n",
    "\n",
    "print(f'''\\n {voting_regressor.__class__.__name__}: \\n Mean Absolute error: {mean_absolute_error(y_pred, Y_test)} \\n Mean Squared Error: {mean_squared_error(y_pred, Y_test)} \\n R2_score: {r2_score(y_pred, Y_test)}''')"
   ]
  }
 ],
 "metadata": {
  "accelerator": "GPU",
  "colab": {
   "gpuType": "T4",
   "provenance": []
  },
  "kernelspec": {
   "display_name": "Python 3 (ipykernel)",
   "language": "python",
   "name": "python3"
  },
  "language_info": {
   "codemirror_mode": {
    "name": "ipython",
    "version": 3
   },
   "file_extension": ".py",
   "mimetype": "text/x-python",
   "name": "python",
   "nbconvert_exporter": "python",
   "pygments_lexer": "ipython3",
   "version": "3.11.7"
  }
 },
 "nbformat": 4,
 "nbformat_minor": 5
}
